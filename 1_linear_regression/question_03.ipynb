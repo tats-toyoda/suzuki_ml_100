{
 "cells": [
  {
   "cell_type": "code",
   "execution_count": 7,
   "metadata": {
    "collapsed": false
   },
   "outputs": [],
   "source": [
    "import numpy as np\n",
    "import matplotlib.pyplot as plt\n",
    "%matplotlib inline\n",
    "import japanize_matplotlib\n",
    "import scipy\n",
    "from scipy import stats\n",
    "from numpy.random import randn\n",
    "import copy"
   ]
  },
  {
   "cell_type": "code",
   "execution_count": 3,
   "metadata": {
    "collapsed": true
   },
   "outputs": [],
   "source": [
    "def min_sq(x, y): # 最小二乗法の切片と傾きを求める関数\n",
    "    x_bar, y_bar = np.mean(x), np.mean(y)\n",
    "    beta_1 = np.dot(x - x_bar, y - y_bar) / np.linalg.norm(x - x_bar) ** 2\n",
    "    beta_0 = y_bar - beta_1 * x_bar\n",
    "    return [beta_1, beta_0]"
   ]
  },
  {
   "cell_type": "code",
   "execution_count": 16,
   "metadata": {
    "collapsed": false
   },
   "outputs": [],
   "source": [
    "N = 100\n",
    "a = np.random.normal(loc=2, scale=1, size=N) # 平均・標準偏差・サイズ\n",
    "b = randn(1) # 係数\n",
    "x = randn(N)\n",
    "y = a * x + b + randn(N) # ここまで人工データの生成\n",
    "a1, b1 = min_sq(x, y) # 回帰係数・切片\n",
    "xx = x - np.mean(x) # ここで中心化する\n",
    "yy = y - np.mean(y) # ここで中心化する\n",
    "a2, b2 = min_sq(xx, yy) # 中心化後の回帰係数・切片"
   ]
  },
  {
   "cell_type": "code",
   "execution_count": 17,
   "metadata": {
    "collapsed": false
   },
   "outputs": [
    {
     "data": {
      "text/plain": [
       "<matplotlib.legend.Legend at 0x1147427b8>"
      ]
     },
     "execution_count": 17,
     "metadata": {},
     "output_type": "execute_result"
    },
    {
     "data": {
      "image/png": "[encoded data removed]",
      "text/plain": [
       "<matplotlib.figure.Figure at 0x11cd83ba8>"
      ]
     },
     "metadata": {},
     "output_type": "display_data"
    }
   ],
   "source": [
    "x_seq = np.arange(-5, 5, 0.1)\n",
    "y_pre = x_seq * a1 + b1\n",
    "yy_pre = x_seq * a2 + b2\n",
    "plt.scatter(x, y, c=\"black\")\n",
    "plt.axhline(y=0, c=\"black\", linewidth=0.5)\n",
    "plt.axvline(x=0, c=\"black\", linewidth=0.5)\n",
    "plt.plot(x_seq, y_pre, c=\"blue\", label=\"中心化前\")\n",
    "plt.plot(x_seq, yy_pre, c=\"orange\", label=\"中心化後\")\n",
    "plt.legend(loc=\"upper left\")"
   ]
  }
 ],
 "metadata": {
  "kernelspec": {
   "display_name": "Python 3",
   "language": "python",
   "name": "python3"
  },
  "language_info": {
   "codemirror_mode": {
    "name": "ipython",
    "version": 3
   },
   "file_extension": ".py",
   "mimetype": "text/x-python",
   "name": "python",
   "nbconvert_exporter": "python",
   "pygments_lexer": "ipython3",
   "version": "3.5.2"
  }
 },
 "nbformat": 4,
 "nbformat_minor": 0
}
